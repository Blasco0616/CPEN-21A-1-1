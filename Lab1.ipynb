{
  "nbformat": 4,
  "nbformat_minor": 0,
  "metadata": {
    "colab": {
      "name": "Lab1.ipynb",
      "provenance": [],
      "authorship_tag": "ABX9TyNUY3mVZSiX+hunw9OOsIZd",
      "include_colab_link": true
    },
    "kernelspec": {
      "name": "python3",
      "display_name": "Python 3"
    },
    "language_info": {
      "name": "python"
    }
  },
  "cells": [
    {
      "cell_type": "markdown",
      "metadata": {
        "id": "view-in-github",
        "colab_type": "text"
      },
      "source": [
        "<a href=\"https://colab.research.google.com/github/Blasco0616/CPEN-21A-1-1/blob/main/Lab1.ipynb\" target=\"_parent\"><img src=\"https://colab.research.google.com/assets/colab-badge.svg\" alt=\"Open In Colab\"/></a>"
      ]
    },
    {
      "cell_type": "markdown",
      "metadata": {
        "id": "IEkne9tLXm-U"
      },
      "source": [
        "#Laboratory 1\n",
        "\n"
      ]
    },
    {
      "cell_type": "code",
      "metadata": {
        "colab": {
          "base_uri": "https://localhost:8080/"
        },
        "id": "rm7hDHG4X1Jn",
        "outputId": "184e6663-939e-447b-aee8-39dbba03d5b0"
      },
      "source": [
        "name = ('Marc Christian M. Blasco')\n",
        "age = ('18')\n",
        "address = (\"Blk 71 lot 23 Tahanang Yaman homes Brgy. Buenavista 2, General trias Cavite\")\n",
        "print('Welcome to Python Programming')\n",
        "print('Name:')\n",
        "print(name)\n",
        "print('Age:')\n",
        "print(age)\n",
        "print('Address:')\n",
        "print(address)"
      ],
      "execution_count": 23,
      "outputs": [
        {
          "output_type": "stream",
          "name": "stdout",
          "text": [
            "Welcome to Python Programming\n",
            "Name:\n",
            "Marc Christian M. Blasco\n",
            "Age:\n",
            "18\n",
            "Address:\n",
            "Blk 71 lot 23 Tahanang Yaman homes Brgy. Buenavista 2, General trias Cavite\n"
          ]
        }
      ]
    }
  ]
}