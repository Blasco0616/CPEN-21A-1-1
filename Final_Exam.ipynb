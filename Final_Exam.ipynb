{
  "nbformat": 4,
  "nbformat_minor": 0,
  "metadata": {
    "colab": {
      "name": "Final Exam.ipynb",
      "provenance": [],
      "authorship_tag": "ABX9TyNcL7ejGaQySzlSU88xi5Dt",
      "include_colab_link": true
    },
    "kernelspec": {
      "name": "python3",
      "display_name": "Python 3"
    },
    "language_info": {
      "name": "python"
    }
  },
  "cells": [
    {
      "cell_type": "markdown",
      "metadata": {
        "id": "view-in-github",
        "colab_type": "text"
      },
      "source": [
        "<a href=\"https://colab.research.google.com/github/Blasco0616/CPEN-21A-1-1/blob/main/Final_Exam.ipynb\" target=\"_parent\"><img src=\"https://colab.research.google.com/assets/colab-badge.svg\" alt=\"Open In Colab\"/></a>"
      ]
    },
    {
      "cell_type": "markdown",
      "source": [
        "#FInal Exam"
      ],
      "metadata": {
        "id": "kbbXpepIyLdR"
      }
    },
    {
      "cell_type": "code",
      "source": [
        "for x in range(1,11):\n",
        "  print(x-5)\n"
      ],
      "metadata": {
        "colab": {
          "base_uri": "https://localhost:8080/"
        },
        "id": "2xUmE31azkrg",
        "outputId": "5423420d-dfce-4db5-e974-7c6807b79d47"
      },
      "execution_count": null,
      "outputs": [
        {
          "output_type": "stream",
          "name": "stdout",
          "text": [
            "-4\n",
            "-3\n",
            "-2\n",
            "-1\n",
            "0\n",
            "1\n",
            "2\n",
            "3\n",
            "4\n",
            "5\n"
          ]
        }
      ]
    },
    {
      "cell_type": "code",
      "source": [
        "i = 1\n",
        "while i<6:\n",
        "  i+=1 \n",
        "  n = str(i)\n",
        "  first = int(n[0])\n",
        "  last = int(n[-1])\n",
        "  sum = first + last\n",
        "  print(sum)\n",
        "  \n",
        "\n",
        "\n",
        "\n"
      ],
      "metadata": {
        "colab": {
          "base_uri": "https://localhost:8080/"
        },
        "id": "BEkI0DuKyRnJ",
        "outputId": "d9b8c630-a090-4325-96b4-1eaa8b1b2ba9"
      },
      "execution_count": 64,
      "outputs": [
        {
          "output_type": "stream",
          "name": "stdout",
          "text": [
            "4\n",
            "6\n",
            "8\n",
            "10\n",
            "12\n"
          ]
        }
      ]
    },
    {
      "cell_type": "code",
      "source": [
        "Range = int(input(\"Enter Your Grade\"))\n",
        "if Range>90:\n",
        "  print(\"A\")\n",
        "elif Range<=90 and Range>=80:\n",
        "  print(\"B\")\n",
        "elif Range<=79 and Range>=70:\n",
        "  print(\"C\")\n",
        "elif Range<=69 and Range>=60:\n",
        "  print(\"D\")\n",
        "else:\n",
        " print(\"F\")\n",
        "      \n",
        "\n"
      ],
      "metadata": {
        "colab": {
          "base_uri": "https://localhost:8080/"
        },
        "id": "06TtI4j81quE",
        "outputId": "4cfc4bc9-9c1d-40a6-c365-0d966dee28aa"
      },
      "execution_count": null,
      "outputs": [
        {
          "output_type": "stream",
          "name": "stdout",
          "text": [
            "Enter Your Grade91\n",
            "A\n"
          ]
        }
      ]
    }
  ]
}