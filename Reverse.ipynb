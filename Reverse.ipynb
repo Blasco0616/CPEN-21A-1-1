{
  "nbformat": 4,
  "nbformat_minor": 0,
  "metadata": {
    "colab": {
      "provenance": [],
      "authorship_tag": "ABX9TyPRzlMkrgZ3DBnMaFxKJ8Mp",
      "include_colab_link": true
    },
    "kernelspec": {
      "name": "python3",
      "display_name": "Python 3"
    },
    "language_info": {
      "name": "python"
    }
  },
  "cells": [
    {
      "cell_type": "markdown",
      "metadata": {
        "id": "view-in-github",
        "colab_type": "text"
      },
      "source": [
        "<a href=\"https://colab.research.google.com/github/Blasco0616/CPEN-21A-1-1/blob/main/Reverse.ipynb\" target=\"_parent\"><img src=\"https://colab.research.google.com/assets/colab-badge.svg\" alt=\"Open In Colab\"/></a>"
      ]
    },
    {
      "cell_type": "code",
      "execution_count": 11,
      "metadata": {
        "colab": {
          "base_uri": "https://localhost:8080/"
        },
        "id": "E9K34lvjaEoJ",
        "outputId": "cd41f477-b39f-4cdf-8850-7d5662b399c8"
      },
      "outputs": [
        {
          "output_type": "stream",
          "name": "stdout",
          "text": [
            "['c', 'r', 'a', 'm'] ['y', 'a', 'g', 'n', 'a', 't', 'a', 'c', 'a', 'm'] ['o', 's', 'a', 'l', 'b']\n"
          ]
        }
      ],
      "source": [
        "firstName=[\"m\",\"a\",\"r\",\"c\"]\n",
        "middleinitial=[\"m\",\"a\",\"c\",\"a\",\"t\",\"a\",\"n\",\"g\",\"a\",\"y\"]\n",
        "lastname=[\"b\",\"l\",\"a\",\"s\",\"o\"]\n",
        "lastname.reverse()\n",
        "firstName.reverse()\n",
        "middleinitial.reverse()\n",
        "print(firstName,middleinitial,lastname)"
      ]
    }
  ]
}