{
  "nbformat": 4,
  "nbformat_minor": 0,
  "metadata": {
    "colab": {
      "name": "Midterm Exam.ipynb",
      "provenance": [],
      "authorship_tag": "ABX9TyNGvjdWqJo2BtRq+VcS4NT/",
      "include_colab_link": true
    },
    "kernelspec": {
      "name": "python3",
      "display_name": "Python 3"
    },
    "language_info": {
      "name": "python"
    }
  },
  "cells": [
    {
      "cell_type": "markdown",
      "metadata": {
        "id": "view-in-github",
        "colab_type": "text"
      },
      "source": [
        "<a href=\"https://colab.research.google.com/github/Blasco0616/CPEN-21A-1-1/blob/main/Midterm_Exam.ipynb\" target=\"_parent\"><img src=\"https://colab.research.google.com/assets/colab-badge.svg\" alt=\"Open In Colab\"/></a>"
      ]
    },
    {
      "cell_type": "markdown",
      "metadata": {
        "id": "CshPJO29hTi1"
      },
      "source": [
        "#Midterm Exam\n"
      ]
    },
    {
      "cell_type": "markdown",
      "metadata": {
        "id": "nJ0oisEahzMf"
      },
      "source": [
        "##Problem Statement 1"
      ]
    },
    {
      "cell_type": "code",
      "metadata": {
        "colab": {
          "base_uri": "https://localhost:8080/"
        },
        "id": "-6A1ZtfbhWU2",
        "outputId": "4ddd1611-c4c1-4b46-e1cf-7dcbfe277760"
      },
      "source": [
        "print(\"Name: Marc Christian M. Blasco\")\n",
        "print(\"Student Number: 202101462\")\n",
        "print(\"Age: 18\")\n",
        "print(\"Birthday: June 16,2003\")\n",
        "print(\"Address: Blk 71 lot 23 Tahananang Yaman Homes Buenavista II General Trias Cavite\")\n",
        "print(\"Course: BSCPE\")\n",
        "print(\"GWA: 90-92 \")"
      ],
      "execution_count": 7,
      "outputs": [
        {
          "output_type": "stream",
          "name": "stdout",
          "text": [
            "Name: Marc Christian M. Blasco\n",
            "Student Number: 202101462\n",
            "Age: 18\n",
            "Birthday: June 16,2003\n",
            "Address: Blk 71 lot 23 Tahananang Yaman Homes Buenavista II General Trias Cavite\n",
            "Course: BSCPE\n",
            "GWA: \n"
          ]
        }
      ]
    },
    {
      "cell_type": "markdown",
      "metadata": {
        "id": "FBK7kr71irBf"
      },
      "source": [
        "##Problem Statement 2"
      ]
    },
    {
      "cell_type": "markdown",
      "metadata": {
        "id": "BtupqfwljDOo"
      },
      "source": [
        "###A"
      ]
    },
    {
      "cell_type": "code",
      "metadata": {
        "colab": {
          "base_uri": "https://localhost:8080/"
        },
        "id": "BfQFM8auiuRn",
        "outputId": "15852122-e046-47c5-a72e-bdfdbe7b5427"
      },
      "source": [
        "n = 4\n",
        "print(2<n and n<6) \n",
        "\n"
      ],
      "execution_count": 17,
      "outputs": [
        {
          "output_type": "stream",
          "name": "stdout",
          "text": [
            "True\n"
          ]
        }
      ]
    },
    {
      "cell_type": "markdown",
      "metadata": {
        "id": "W-fuWypXjI2E"
      },
      "source": [
        "###B"
      ]
    },
    {
      "cell_type": "code",
      "metadata": {
        "colab": {
          "base_uri": "https://localhost:8080/"
        },
        "id": "LQTjnV9jkCUV",
        "outputId": "cf150322-0337-48b9-852a-de281fcb05ca"
      },
      "source": [
        "n = 4\n",
        "print(2<n or n==6)\n"
      ],
      "execution_count": 27,
      "outputs": [
        {
          "output_type": "stream",
          "name": "stdout",
          "text": [
            "True\n"
          ]
        }
      ]
    },
    {
      "cell_type": "markdown",
      "metadata": {
        "id": "7HkfCl9okqqW"
      },
      "source": [
        "###C"
      ]
    },
    {
      "cell_type": "code",
      "metadata": {
        "colab": {
          "base_uri": "https://localhost:8080/"
        },
        "id": "c-9CU1jjksUw",
        "outputId": "520eeefd-2c0b-4f0d-b4fd-72743810370e"
      },
      "source": [
        "n = 4\n",
        "print(not 2<n or n==6)"
      ],
      "execution_count": 28,
      "outputs": [
        {
          "output_type": "stream",
          "name": "stdout",
          "text": [
            "False\n"
          ]
        }
      ]
    },
    {
      "cell_type": "markdown",
      "metadata": {
        "id": "w7ip5oSHlMb2"
      },
      "source": [
        "###D"
      ]
    },
    {
      "cell_type": "code",
      "metadata": {
        "colab": {
          "base_uri": "https://localhost:8080/"
        },
        "id": "XkCi0XcNlOJ2",
        "outputId": "22a573ba-90eb-4889-cbfd-e741c8366f03"
      },
      "source": [
        "n = 4\n",
        "print(not n<6)"
      ],
      "execution_count": 29,
      "outputs": [
        {
          "output_type": "stream",
          "name": "stdout",
          "text": [
            "False\n"
          ]
        }
      ]
    },
    {
      "cell_type": "markdown",
      "metadata": {
        "id": "gJKZdmnflVNF"
      },
      "source": [
        "###E"
      ]
    },
    {
      "cell_type": "code",
      "metadata": {
        "colab": {
          "base_uri": "https://localhost:8080/"
        },
        "id": "WqMA6PgdlXZ0",
        "outputId": "f48211b1-e5c8-4dca-88fb-1917ab0e9e05"
      },
      "source": [
        "answ = \"Y\"\n",
        "print(answ== 'Y' and answ== 'y')\n"
      ],
      "execution_count": 72,
      "outputs": [
        {
          "output_type": "stream",
          "name": "stdout",
          "text": [
            "False\n"
          ]
        }
      ]
    },
    {
      "cell_type": "markdown",
      "metadata": {
        "id": "u-xAvRABpzWk"
      },
      "source": [
        "###F"
      ]
    },
    {
      "cell_type": "code",
      "metadata": {
        "colab": {
          "base_uri": "https://localhost:8080/"
        },
        "id": "dvmiKzeMp6CT",
        "outputId": "62942033-5b69-44a1-c8fb-a9e98aadc777"
      },
      "source": [
        "answ = \"Y\"\n",
        "print( answ== 'Y' or answ== 'y')"
      ],
      "execution_count": 74,
      "outputs": [
        {
          "output_type": "stream",
          "name": "stdout",
          "text": [
            "True\n"
          ]
        }
      ]
    },
    {
      "cell_type": "markdown",
      "metadata": {
        "id": "uTpkdqhHqtn9"
      },
      "source": [
        "###G"
      ]
    },
    {
      "cell_type": "code",
      "metadata": {
        "colab": {
          "base_uri": "https://localhost:8080/"
        },
        "id": "zV3gjCwNqweU",
        "outputId": "1ce546ee-bd22-4f9f-9dca-af4da5aa3978"
      },
      "source": [
        "answ = \"Y\"\n",
        "print(not answ== 'y')"
      ],
      "execution_count": 76,
      "outputs": [
        {
          "output_type": "stream",
          "name": "stdout",
          "text": [
            "True\n"
          ]
        }
      ]
    },
    {
      "cell_type": "markdown",
      "metadata": {
        "id": "re_2Y5EQq9Ye"
      },
      "source": [
        "###h"
      ]
    },
    {
      "cell_type": "code",
      "metadata": {
        "colab": {
          "base_uri": "https://localhost:8080/"
        },
        "id": "Tfs3mTRRrBaL",
        "outputId": "bc7ab726-0ad5-4bb8-9fe0-970f15d4e4b7"
      },
      "source": [
        "n = 4\n",
        "answ = \"Y\"\n",
        "print((2<n) and (n== 5+1) or (answ==\"No\"))"
      ],
      "execution_count": 78,
      "outputs": [
        {
          "output_type": "stream",
          "name": "stdout",
          "text": [
            "False\n"
          ]
        }
      ]
    },
    {
      "cell_type": "markdown",
      "metadata": {
        "id": "VX2tRbU4rYwK"
      },
      "source": [
        "###I"
      ]
    },
    {
      "cell_type": "code",
      "metadata": {
        "colab": {
          "base_uri": "https://localhost:8080/"
        },
        "id": "ewUkjxkrrals",
        "outputId": "7eee24c7-74b6-4514-969d-5ba707f607e9"
      },
      "source": [
        "n = 4\n",
        "answ = \"Y\"\n",
        "print((n==2) and (n== 7) or (answ==\"Y\"))"
      ],
      "execution_count": 79,
      "outputs": [
        {
          "output_type": "stream",
          "name": "stdout",
          "text": [
            "True\n"
          ]
        }
      ]
    },
    {
      "cell_type": "markdown",
      "metadata": {
        "id": "uATqDEWerjmN"
      },
      "source": [
        "###J"
      ]
    },
    {
      "cell_type": "code",
      "metadata": {
        "id": "1oh3FP-Rrlpt"
      },
      "source": [
        "n = 4\n",
        "answ = \"Y\"\n",
        "print((n==2) and (n== 7) or (answ==\"Y\"))"
      ],
      "execution_count": null,
      "outputs": []
    },
    {
      "cell_type": "markdown",
      "metadata": {
        "id": "5I1QGeDxrqeS"
      },
      "source": [
        "##Statement Problem 3"
      ]
    },
    {
      "cell_type": "code",
      "metadata": {
        "colab": {
          "base_uri": "https://localhost:8080/"
        },
        "id": "rCI_QDwyrxYS",
        "outputId": "c1b7bba7-aadb-4766-87da-70bfd2869553"
      },
      "source": [
        "x = 2\n",
        "y = -3\n",
        "w = 7\n",
        "z = -10\n",
        "print(x/y)\n",
        "print(w/y/x)\n",
        "print(z/y%x)\n",
        "print(x%-y*w)\n",
        "print(x%y)\n",
        "print(z%w-y/x*5+5)\n",
        "print(9-x%(2+y))\n",
        "print(z//w)\n",
        "print((2+y)**2)\n",
        "print(w/x*2)"
      ],
      "execution_count": 99,
      "outputs": [
        {
          "output_type": "stream",
          "name": "stdout",
          "text": [
            "-0.6666666666666666\n",
            "-1.1666666666666667\n",
            "1.3333333333333335\n",
            "14\n",
            "-1\n",
            "16.5\n",
            "9\n",
            "-2\n",
            "1\n",
            "7.0\n"
          ]
        }
      ]
    }
  ]
}