{
  "nbformat": 4,
  "nbformat_minor": 0,
  "metadata": {
    "colab": {
      "name": "Control Structure.ipynb",
      "provenance": [],
      "authorship_tag": "ABX9TyOl1xzyKVYy0XwEspL8yAYh",
      "include_colab_link": true
    },
    "kernelspec": {
      "name": "python3",
      "display_name": "Python 3"
    },
    "language_info": {
      "name": "python"
    }
  },
  "cells": [
    {
      "cell_type": "markdown",
      "metadata": {
        "id": "view-in-github",
        "colab_type": "text"
      },
      "source": [
        "<a href=\"https://colab.research.google.com/github/Blasco0616/CPEN-21A-1-1/blob/main/Control_Structure.ipynb\" target=\"_parent\"><img src=\"https://colab.research.google.com/assets/colab-badge.svg\" alt=\"Open In Colab\"/></a>"
      ]
    },
    {
      "cell_type": "markdown",
      "metadata": {
        "id": "VecrgdVsnIkJ"
      },
      "source": [
        "If Statement"
      ]
    },
    {
      "cell_type": "code",
      "metadata": {
        "colab": {
          "base_uri": "https://localhost:8080/"
        },
        "id": "iHLQj4W4nLMX",
        "outputId": "9d8feb1d-171c-461a-c100-a281e6fbc18b"
      },
      "source": [
        "a =100\n",
        "b = 12\n",
        "\n",
        "if b<a:\n",
        "  print(\"b is greater than a\")"
      ],
      "execution_count": 2,
      "outputs": [
        {
          "output_type": "stream",
          "name": "stdout",
          "text": [
            "b is greater than a\n"
          ]
        }
      ]
    },
    {
      "cell_type": "markdown",
      "metadata": {
        "id": "cu2ZMsdoo2U-"
      },
      "source": [
        "##Elif Condition"
      ]
    },
    {
      "cell_type": "code",
      "metadata": {
        "colab": {
          "base_uri": "https://localhost:8080/"
        },
        "id": "WLwII6uVo8Ad",
        "outputId": "fd65adcb-efda-4a95-f6ef-b1a78a5f4eb3"
      },
      "source": [
        "a = 12\n",
        "b =12\n",
        "if b<a:\n",
        "  print(\"b is greater than a\")\n",
        "elif b==a:\n",
        "  print(\"a is equal to b\")\n",
        "else:\n",
        "  print(\"a is greater than b\")"
      ],
      "execution_count": 3,
      "outputs": [
        {
          "output_type": "stream",
          "name": "stdout",
          "text": [
            "a is equal to b\n"
          ]
        }
      ]
    },
    {
      "cell_type": "markdown",
      "metadata": {
        "id": "mR_hXSH5pju2"
      },
      "source": [
        "##Else Condition"
      ]
    },
    {
      "cell_type": "code",
      "metadata": {
        "colab": {
          "base_uri": "https://localhost:8080/"
        },
        "id": "ynoSWkCWpn5v",
        "outputId": "9d92e17e-19d4-4817-b6d9-9297b1f159b5"
      },
      "source": [
        "a = 120\n",
        "b =12\n",
        "if b<a:\n",
        "  print(\"b is greater than a\")\n",
        "elif b==a:\n",
        "  print(\"a is equal to b\")\n",
        "else:\n",
        "  print(\"a is greater than b\")"
      ],
      "execution_count": 4,
      "outputs": [
        {
          "output_type": "stream",
          "name": "stdout",
          "text": [
            "b is greater than a\n"
          ]
        }
      ]
    },
    {
      "cell_type": "markdown",
      "metadata": {
        "id": "RsSKgNdDqjp8"
      },
      "source": [
        "##Short Hand If Statement"
      ]
    },
    {
      "cell_type": "code",
      "metadata": {
        "colab": {
          "base_uri": "https://localhost:8080/"
        },
        "id": "Qru_S9vWqvQW",
        "outputId": "864c308e-a5e7-4e72-93cc-949569e4c976"
      },
      "source": [
        "if a>b: print(\"a is greater than b\")"
      ],
      "execution_count": 8,
      "outputs": [
        {
          "output_type": "stream",
          "name": "stdout",
          "text": [
            "a is greater than b\n"
          ]
        }
      ]
    },
    {
      "cell_type": "markdown",
      "metadata": {
        "id": "AKbWj2fXrUgK"
      },
      "source": [
        "## Shor Hang If else Statement"
      ]
    },
    {
      "cell_type": "code",
      "metadata": {
        "colab": {
          "base_uri": "https://localhost:8080/"
        },
        "id": "ngAgPLKYrbn4",
        "outputId": "aac93283-84ed-4672-e57e-a55734c896b8"
      },
      "source": [
        "print(\"a is greater than b\") if a>b else print(\"b is greater than a\")"
      ],
      "execution_count": 11,
      "outputs": [
        {
          "output_type": "stream",
          "name": "stdout",
          "text": [
            "a is greater than b\n"
          ]
        }
      ]
    },
    {
      "cell_type": "markdown",
      "metadata": {
        "id": "WY64k-hsuRws"
      },
      "source": [
        "##And Conditions"
      ]
    },
    {
      "cell_type": "code",
      "metadata": {
        "colab": {
          "base_uri": "https://localhost:8080/"
        },
        "id": "s-up06UbuVWE",
        "outputId": "89b3e42a-1179-4d30-d978-fc3318159199"
      },
      "source": [
        "a = 15\n",
        "b = 35\n",
        "\n",
        "if b>a and a<b:\n",
        " print(\"both conditions are true\")\n",
        "elif  b<a and a>b:\n",
        "  print(\"both conditions are false\")\n",
        "else:\n",
        "  print(\"none of the above\")"
      ],
      "execution_count": 13,
      "outputs": [
        {
          "output_type": "stream",
          "name": "stdout",
          "text": [
            "both conditions are true\n"
          ]
        }
      ]
    },
    {
      "cell_type": "markdown",
      "metadata": {
        "id": "N53xPiRAvutU"
      },
      "source": [
        "##Or condition"
      ]
    },
    {
      "cell_type": "code",
      "metadata": {
        "colab": {
          "base_uri": "https://localhost:8080/"
        },
        "id": "yXSKEVTxvzpJ",
        "outputId": "30431785-a75f-47f3-be2c-9a452bfad9fe"
      },
      "source": [
        "a = 35\n",
        "b = 20\n",
        "\n",
        "if b>a or a==b:\n",
        "  print(\"True\")\n",
        "elif b==a or a>b:\n",
        "  print(\"Absolutely True\")\n",
        "else:\n",
        "  print(\"Nothing to Compare\")"
      ],
      "execution_count": 16,
      "outputs": [
        {
          "output_type": "stream",
          "name": "stdout",
          "text": [
            "Absolutely True\n"
          ]
        }
      ]
    },
    {
      "cell_type": "markdown",
      "metadata": {
        "id": "w6hOJqtxxBdb"
      },
      "source": [
        "##Nested If"
      ]
    },
    {
      "cell_type": "code",
      "metadata": {
        "colab": {
          "base_uri": "https://localhost:8080/"
        },
        "id": "1kA5l_9BxMV9",
        "outputId": "6890b4b8-29f8-4d0f-cc6e-d6b856f5d41b"
      },
      "source": [
        "x = 9\n",
        "if x>10:\n",
        "  print(\"Above 10\")\n",
        "  if x>20:\n",
        "   print(\"Above 20\")\n",
        "   if x>30:\n",
        "    print(\"Above 30\")\n",
        "   else:\n",
        "    print(\"Not Above 20\")\n",
        "  else: \n",
        "    print(\"Not Above 30\")\n",
        "else:\n",
        " print(\"Not Above 10\")\n",
        "\n"
      ],
      "execution_count": 59,
      "outputs": [
        {
          "output_type": "stream",
          "name": "stdout",
          "text": [
            "Not Above 10\n"
          ]
        }
      ]
    },
    {
      "cell_type": "markdown",
      "metadata": {
        "id": "XlVtjOh4yeCW"
      },
      "source": [
        "##Application of if...else Statement"
      ]
    },
    {
      "cell_type": "code",
      "metadata": {
        "colab": {
          "base_uri": "https://localhost:8080/"
        },
        "id": "L8i-p7wxyj75",
        "outputId": "eca0987f-8e28-48d8-d53e-48a71a77d95a"
      },
      "source": [
        "age = int(input(\"Enter your Age\"))\n",
        "\n",
        "if age>=18:\n",
        "  print(\"You are Qualified to Vote!\")\n",
        "else:\n",
        "  print(\"You are not Qualifed to Vote\")"
      ],
      "execution_count": 32,
      "outputs": [
        {
          "output_type": "stream",
          "name": "stdout",
          "text": [
            "Enter your Age18\n",
            "You are Qualified to Vote!\n"
          ]
        }
      ]
    },
    {
      "cell_type": "code",
      "metadata": {
        "id": "hFiLc60rzuxV"
      },
      "source": [
        "number = int(input(\"Enter The Number\"))\n",
        "if number ==0:\n",
        "  print(\"Zero\")\n",
        "elif number>):\n",
        "  print(\"Positive\")\n",
        "else:\n",
        "  print(\"negative\")"
      ],
      "execution_count": null,
      "outputs": []
    },
    {
      "cell_type": "code",
      "metadata": {
        "id": "vfgT3Jg70XHG"
      },
      "source": [
        "grade = int(input(\"Enter your grade\"))\n",
        "if grade>75:\n",
        "  print(\"Passed\")\n",
        "elif grade=74:\n",
        "  print(\"remedial\")\n",
        "else:\n",
        "  print(\"Failed\")"
      ],
      "execution_count": null,
      "outputs": []
    }
  ]
}