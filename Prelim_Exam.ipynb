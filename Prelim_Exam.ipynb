{
  "nbformat": 4,
  "nbformat_minor": 0,
  "metadata": {
    "colab": {
      "name": "Prelim Exam.ipynb",
      "provenance": [],
      "authorship_tag": "ABX9TyNSOCdTF8b3czeeMs5IrQK3",
      "include_colab_link": true
    },
    "kernelspec": {
      "name": "python3",
      "display_name": "Python 3"
    },
    "language_info": {
      "name": "python"
    }
  },
  "cells": [
    {
      "cell_type": "markdown",
      "metadata": {
        "id": "view-in-github",
        "colab_type": "text"
      },
      "source": [
        "<a href=\"https://colab.research.google.com/github/Blasco0616/CPEN-21A-1-1/blob/main/Prelim_Exam.ipynb\" target=\"_parent\"><img src=\"https://colab.research.google.com/assets/colab-badge.svg\" alt=\"Open In Colab\"/></a>"
      ]
    },
    {
      "cell_type": "code",
      "execution_count": 5,
      "metadata": {
        "colab": {
          "base_uri": "https://localhost:8080/"
        },
        "id": "OD6LF6WkPUBa",
        "outputId": "87be0f04-23e9-45bf-a6b8-14794530fb80"
      },
      "outputs": [
        {
          "output_type": "stream",
          "name": "stdout",
          "text": [
            "I Am Marc christian Blasco\n",
            "My Student Number is 202101462\n",
            "I am already 18 Years Old\n",
            "My school is CvSU\n",
            "And the course i Picked is BSCPE\n"
          ]
        }
      ],
      "source": [
        "class OOP_1_1:\n",
        "  def __init__ (self,fullname,student_no,age,school,course):\n",
        "    self.fullname = fullname\n",
        "    self.student_no = student_no\n",
        "    self.age = age\n",
        "    self.school = school\n",
        "    self.course = course\n",
        "\n",
        "  def Info(self):\n",
        "   print(\"I Am\",self.fullname)\n",
        "   print(\"My Student Number is\",self.student_no)\n",
        "   print(\"I am already\",self.age,\"Years Old\")\n",
        "   print(\"My school is\",self.school)\n",
        "   print(\"And the course i Picked is\",self.course)\n",
        "\n",
        "\n",
        "student = OOP_1_1(\"Marc christian Blasco\",202101462,18,\"CvSU\",\"BSCPE\")\n",
        "student.Info()"
      ]
    }
  ]
}