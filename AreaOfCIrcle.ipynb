{
  "nbformat": 4,
  "nbformat_minor": 0,
  "metadata": {
    "colab": {
      "provenance": [],
      "authorship_tag": "ABX9TyOiUyz5/ccvtiqzG/WIzWVv",
      "include_colab_link": true
    },
    "kernelspec": {
      "name": "python3",
      "display_name": "Python 3"
    },
    "language_info": {
      "name": "python"
    }
  },
  "cells": [
    {
      "cell_type": "markdown",
      "metadata": {
        "id": "view-in-github",
        "colab_type": "text"
      },
      "source": [
        "<a href=\"https://colab.research.google.com/github/Blasco0616/CPEN-21A-1-1/blob/main/AreaOfCIrcle.ipynb\" target=\"_parent\"><img src=\"https://colab.research.google.com/assets/colab-badge.svg\" alt=\"Open In Colab\"/></a>"
      ]
    },
    {
      "cell_type": "code",
      "execution_count": null,
      "metadata": {
        "id": "KBYCoZat3Oov"
      },
      "outputs": [],
      "source": [
        "PI = 3.14\n",
        "r = float(input(\"Enter the radius of a circle:\"))\n",
        "area = PI * r * r\n",
        "print(area)\n",
        "\n"
      ]
    }
  ]
}